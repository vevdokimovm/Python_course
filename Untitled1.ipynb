{
 "cells": [
  {
   "cell_type": "code",
   "execution_count": 3,
   "id": "5a48742e",
   "metadata": {},
   "outputs": [
    {
     "name": "stdout",
     "output_type": "stream",
     "text": [
      "10 5\n",
      "252\n"
     ]
    }
   ],
   "source": [
    "def C_n_k(n, k):\n",
    "    if k == 0: return 1\n",
    "    elif k > n: return 0\n",
    "    return C_n_k(n - 1, k) + C_n_k(n - 1, k - 1)\n",
    "\n",
    "\n",
    "n, k = map(int, input().split())\n",
    "#print(C_n_k(n, k))"
   ]
  },
  {
   "cell_type": "code",
   "execution_count": 5,
   "id": "c5ab235c",
   "metadata": {},
   "outputs": [
    {
     "data": {
      "text/plain": [
       "-43"
      ]
     },
     "execution_count": 5,
     "metadata": {},
     "output_type": "execute_result"
    }
   ],
   "source": [
    "min(4, 45, 49, -43, 0)"
   ]
  },
  {
   "cell_type": "code",
   "execution_count": null,
   "id": "a0ecfcfc",
   "metadata": {},
   "outputs": [],
   "source": []
  }
 ],
 "metadata": {
  "kernelspec": {
   "display_name": "Python 3 (ipykernel)",
   "language": "python",
   "name": "python3"
  },
  "language_info": {
   "codemirror_mode": {
    "name": "ipython",
    "version": 3
   },
   "file_extension": ".py",
   "mimetype": "text/x-python",
   "name": "python",
   "nbconvert_exporter": "python",
   "pygments_lexer": "ipython3",
   "version": "3.7.6"
  }
 },
 "nbformat": 4,
 "nbformat_minor": 5
}
