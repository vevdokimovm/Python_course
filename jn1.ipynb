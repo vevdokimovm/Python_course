{
 "cells": [
  {
   "cell_type": "code",
   "execution_count": 8,
   "id": "5a4cbaca",
   "metadata": {},
   "outputs": [
    {
     "name": "stdout",
     "output_type": "stream",
     "text": [
      "9\n",
      "add global a\n",
      "create foo global\n",
      "add foo b\n",
      "get foo a\n",
      "global\n",
      "get foo c\n",
      "None\n",
      "create bar foo\n",
      "add bar a\n",
      "get bar a\n",
      "bar\n",
      "get bar b\n",
      "foo\n",
      "\n",
      " {'global': ['a'], 'foo': ['global', 'b'], 'bar': ['foo', 'a']}\n"
     ]
    }
   ],
   "source": [
    "n = int(input())\n",
    "\n",
    "namespaces = {\n",
    "    'global': []\n",
    "}\n",
    "\n",
    "for _ in range(n):\n",
    "    request = input().split()\n",
    "    function = request[0]\n",
    "    namespace = request[1]\n",
    "    \n",
    "    if function == 'create':\n",
    "        parent = request[2]\n",
    "        namespaces[namespace] = [parent]\n",
    "        \n",
    "    elif function == 'add':\n",
    "        variable = request[2]\n",
    "        namespaces[namespace].append(variable)\n",
    "        \n",
    "    elif function == 'get':\n",
    "        variable = request[2]\n",
    "        flag = False\n",
    "        while namespace != 'global' and not flag:\n",
    "            if variable in namespaces[namespace]:\n",
    "                print(namespace)\n",
    "                flag = True\n",
    "            else:\n",
    "                namespace = namespaces[namespace][0]\n",
    "                \n",
    "        if namespace == 'global' and not flag:\n",
    "            if variable in namespaces['global']:\n",
    "                print('global')\n",
    "            else:\n",
    "                print('None')\n",
    "        \n",
    "#print('\\n', namespaces)"
   ]
  },
  {
   "cell_type": "code",
   "execution_count": 9,
   "id": "dfbdb97b",
   "metadata": {},
   "outputs": [
    {
     "ename": "SyntaxError",
     "evalue": "invalid syntax (2029494746.py, line 2)",
     "output_type": "error",
     "traceback": [
      "\u001b[0;36m  File \u001b[0;32m\"/var/folders/v0/fz9y77nd4nz1zy76_3wr_r800000gn/T/ipykernel_11601/2029494746.py\"\u001b[0;36m, line \u001b[0;32m2\u001b[0m\n\u001b[0;31m    add global a\u001b[0m\n\u001b[0m             ^\u001b[0m\n\u001b[0;31mSyntaxError\u001b[0m\u001b[0;31m:\u001b[0m invalid syntax\n"
     ]
    }
   ],
   "source": [
    "9\n",
    "add global a\n",
    "create foo global\n",
    "add foo b\n",
    "get foo a\n",
    "get foo c\n",
    "create bar foo\n",
    "add bar a\n",
    "get bar a\n",
    "get bar b"
   ]
  },
  {
   "cell_type": "code",
   "execution_count": 12,
   "id": "ce8b2d98",
   "metadata": {},
   "outputs": [
    {
     "name": "stdout",
     "output_type": "stream",
     "text": [
      "<class '__main__.MyClass'>\n",
      "10\n",
      "<function MyClass.func at 0x7f7921882200>\n",
      "<class 'type'>\n",
      "<class 'int'>\n",
      "<class 'function'>\n"
     ]
    }
   ],
   "source": [
    "class MyClass():\n",
    "    a = 10\n",
    "    \n",
    "    def func(self):\n",
    "        print(\"Hello\")\n",
    "        \n",
    "print(MyClass)\n",
    "print(MyClass.a)\n",
    "print(MyClass.func)\n",
    "        \n",
    "print(type(MyClass))\n",
    "print(type(MyClass.a))\n",
    "print(type(MyClass.func))"
   ]
  },
  {
   "cell_type": "code",
   "execution_count": 25,
   "id": "08389510",
   "metadata": {},
   "outputs": [
    {
     "name": "stdout",
     "output_type": "stream",
     "text": [
      "Class 'Counter' created.\n",
      "10000\n",
      "10000\n",
      "10000\n",
      "34\n",
      "87000\n"
     ]
    }
   ],
   "source": [
    "class Counter:\n",
    "    print(\"Class \\'Counter\\' created.\")\n",
    "    \n",
    "Counter\n",
    "x = Counter()\n",
    "y = Counter()\n",
    "\n",
    "Counter.networth = 10000\n",
    "x.count = 34\n",
    "y.money = 87000\n",
    "\n",
    "print(Counter.networth)\n",
    "print(x.networth)\n",
    "print(y.networth)\n",
    "\n",
    "#print(Counter.count)\n",
    "print(x.count)\n",
    "#print(y.count)\n",
    "\n",
    "#print(Counter.money)\n",
    "#print(x.money)\n",
    "print(y.money)"
   ]
  },
  {
   "cell_type": "code",
   "execution_count": 22,
   "id": "c8bde6c2",
   "metadata": {},
   "outputs": [
    {
     "ename": "SyntaxError",
     "evalue": "invalid syntax (1000976212.py, line 1)",
     "output_type": "error",
     "traceback": [
      "\u001b[0;36m  File \u001b[0;32m\"/var/folders/v0/fz9y77nd4nz1zy76_3wr_r800000gn/T/ipykernel_11601/1000976212.py\"\u001b[0;36m, line \u001b[0;32m1\u001b[0m\n\u001b[0;31m    type object 'Counter' has no attribute 'count'\u001b[0m\n\u001b[0m              ^\u001b[0m\n\u001b[0;31mSyntaxError\u001b[0m\u001b[0;31m:\u001b[0m invalid syntax\n"
     ]
    }
   ],
   "source": [
    "type object 'Counter' has no attribute 'count'\n",
    "'Counter' object has no attribute 'count'"
   ]
  },
  {
   "cell_type": "code",
   "execution_count": 26,
   "id": "d1b191c4",
   "metadata": {},
   "outputs": [
    {
     "name": "stdout",
     "output_type": "stream",
     "text": [
      "Class 'Counter' created.\n",
      "34\n",
      "87000\n"
     ]
    }
   ],
   "source": [
    "class Counter:\n",
    "    print(\"Class \\'Counter\\' created.\")\n",
    "    \n",
    "\n",
    "x = Counter()\n",
    "y = Counter()\n",
    "\n",
    "\n",
    "x.count = 34\n",
    "y.money = 87000\n",
    "\n",
    "\n",
    "print(x.count)\n",
    "print(y.money)"
   ]
  },
  {
   "cell_type": "code",
   "execution_count": 32,
   "id": "040f4c87",
   "metadata": {},
   "outputs": [
    {
     "name": "stdout",
     "output_type": "stream",
     "text": [
      "11\n",
      "added 1\n",
      "12\n"
     ]
    }
   ],
   "source": [
    "class MoneyBox():\n",
    "    coins_in = 0\n",
    "    \n",
    "    def __init__(self, capacity):\n",
    "        self.capacity = capacity\n",
    "        \n",
    "    def can_add(self, v):\n",
    "        if self.coins_in + v <= self.capacity:\n",
    "            return True\n",
    "        else:\n",
    "            return False\n",
    "        \n",
    "    def add(self, v):\n",
    "        self.coins_in += v\n",
    "        \n",
    "        \n",
    "# x = MoneyBox(12)\n",
    "# x.add(4)\n",
    "# x.add(7)\n",
    "# print(x.coins_in)\n",
    "\n",
    "# if x.can_add(1):\n",
    "#     x.add(1)\n",
    "#     print(\"added 1\")\n",
    "#     print(x.capacity)\n",
    "    \n",
    "# if x.can_add(5):\n",
    "#     x.add(5)\n",
    "    \n",
    "    \n",
    "        "
   ]
  },
  {
   "cell_type": "code",
   "execution_count": 33,
   "id": "f8c1584f",
   "metadata": {},
   "outputs": [],
   "source": [
    "class MoneyBox():\n",
    "    coins_in = 0\n",
    "    \n",
    "    def __init__(self, capacity):\n",
    "        self.capacity = capacity\n",
    "        \n",
    "    def can_add(self, v):\n",
    "        return bool(test)\n",
    "        \n",
    "    def add(self, v):\n",
    "        self.coins_in += v"
   ]
  },
  {
   "cell_type": "code",
   "execution_count": 39,
   "id": "f4682968",
   "metadata": {},
   "outputs": [
    {
     "name": "stdout",
     "output_type": "stream",
     "text": [
      "15\n",
      "40\n",
      "5\n",
      "5\n"
     ]
    },
    {
     "data": {
      "text/plain": [
       "[1]"
      ]
     },
     "execution_count": 39,
     "metadata": {},
     "output_type": "execute_result"
    }
   ],
   "source": [
    "class Buffer:\n",
    "    \n",
    "    def __init__(self):\n",
    "        self.sum = 0\n",
    "        self.vars5 = list()\n",
    "        \n",
    "    def add(self, *a):\n",
    "        for var in a:\n",
    "            if len(self.vars5) == 5:\n",
    "                print(self.vars5[0] + self.vars5[1] + self.vars5[2] +\n",
    "                      self.vars5[3] + self.vars5[4])\n",
    "                self.vars5 = [var]\n",
    "            else:\n",
    "                self.vars5.append(var)\n",
    "        \n",
    "        if len(self.vars5) == 5:\n",
    "                print(self.vars5[0] + self.vars5[1] + self.vars5[2] +\n",
    "                      self.vars5[3] + self.vars5[4])\n",
    "                self.vars5 = list()\n",
    "    \n",
    "    def get_current_part(self):\n",
    "        return self.vars5\n",
    "        \n",
    "    \n",
    "buf = Buffer()\n",
    "buf.add(1, 2, 3)\n",
    "buf.get_current_part() # вернуть [1, 2, 3]\n",
    "buf.add(4, 5, 6) # print(15) – вывод суммы первой пятерки элементов\n",
    "buf.get_current_part() # вернуть [6]\n",
    "buf.add(7, 8, 9, 10) # print(40) – вывод суммы второй пятерки элементов\n",
    "buf.get_current_part() # вернуть []\n",
    "buf.add(1, 1, 1, 1, 1, 1, 1, 1, 1, 1, 1) # print(5), print(5) – вывод сумм третьей и четвертой пятерки\n",
    "buf.get_current_part() # вернуть [1]"
   ]
  },
  {
   "cell_type": "code",
   "execution_count": 42,
   "id": "5039b3f0",
   "metadata": {},
   "outputs": [
    {
     "name": "stdout",
     "output_type": "stream",
     "text": [
      "2\n",
      "3\n",
      "3\n",
      "3\n"
     ]
    }
   ],
   "source": [
    "class A:\n",
    "    val = 1\n",
    "\n",
    "    def foo(self):\n",
    "        A.val += 2\n",
    "\n",
    "    def bar(self):\n",
    "        self.val += 1\n",
    "\n",
    "\n",
    "a = A()\n",
    "b = A()\n",
    "\n",
    "a.bar()\n",
    "a.foo()\n",
    "\n",
    "c = A()\n",
    "\n",
    "print(a.val)\n",
    "print(b.val)\n",
    "print(c.val)\n",
    "print(A.val)"
   ]
  },
  {
   "cell_type": "code",
   "execution_count": 44,
   "id": "682e339a",
   "metadata": {},
   "outputs": [
    {
     "name": "stdout",
     "output_type": "stream",
     "text": [
      "[<class '__main__.A'>, <class '__main__.B'>, <class '__main__.D'>, <class '__main__.E'>, <class '__main__.C'>, <class 'object'>]\n"
     ]
    }
   ],
   "source": [
    "class D: pass\n",
    "class E: pass\n",
    "class B(D, E): pass\n",
    "class C: pass\n",
    "class A(B, C): pass\n",
    "\n",
    "print(A.mro())"
   ]
  },
  {
   "cell_type": "code",
   "execution_count": 45,
   "id": "5ff65a39",
   "metadata": {},
   "outputs": [
    {
     "name": "stdout",
     "output_type": "stream",
     "text": [
      "[]\n",
      "[1, 2, 3, 4, 5]\n",
      "False\n",
      "True\n"
     ]
    }
   ],
   "source": [
    "class MyList(list):\n",
    "    def even_length(self):\n",
    "        return len(self) % 2 == 0\n",
    "    \n",
    "x = MyList()\n",
    "print(x) # []\n",
    "x.extend([1, 2, 3, 4, 5])\n",
    "print(x) # [1, 2, 3, 4, 5]\n",
    "print(x.even_length()) # False\n",
    "x.append(6)\n",
    "print(x.even_length()) # True"
   ]
  },
  {
   "cell_type": "code",
   "execution_count": 47,
   "id": "44a8304b",
   "metadata": {},
   "outputs": [
    {
     "name": "stdout",
     "output_type": "stream",
     "text": [
      "True\n",
      "True\n",
      "True\n",
      "False\n"
     ]
    }
   ],
   "source": [
    "class D: pass\n",
    "class E: pass\n",
    "class B(D, E): pass\n",
    "class C: pass\n",
    "class A(B, C): pass\n",
    "\n",
    "x = A()\n",
    "print(isinstance(x, A)) # True\n",
    "print(isinstance(x, B)) # True\n",
    "print(isinstance(x, object)) # True\n",
    "print(isinstance(x, str)) # False"
   ]
  },
  {
   "cell_type": "code",
   "execution_count": 50,
   "id": "734b1442",
   "metadata": {},
   "outputs": [
    {
     "name": "stdout",
     "output_type": "stream",
     "text": [
      "True\n",
      "False\n",
      "True\n",
      "True\n",
      "False\n"
     ]
    }
   ],
   "source": [
    "class D: pass\n",
    "class E: pass\n",
    "class B(D, E): pass\n",
    "class C: pass\n",
    "class A(B, C): pass\n",
    "\n",
    "x = A()\n",
    "print(issubclass(A, A)) # True\n",
    "print(issubclass(C, D)) # False\n",
    "print(issubclass(A, D)) # True\n",
    "print(issubclass(C, object)) # True\n",
    "print(issubclass(object, C)) # False"
   ]
  },
  {
   "cell_type": "code",
   "execution_count": 52,
   "id": "7b3a20dd",
   "metadata": {},
   "outputs": [
    {
     "name": "stdout",
     "output_type": "stream",
     "text": [
      "[<class '__main__.MyList'>, <class 'list'>, <class '__main__.EvenLengthMixing'>, <class 'object'>]\n",
      "False\n",
      "True\n"
     ]
    }
   ],
   "source": [
    "class EvenLengthMixing:\n",
    "    def even_length(self):\n",
    "        return len(self) % 2 == 0\n",
    "    \n",
    "class MyList(list, EvenLengthMixing):\n",
    "    pass\n",
    "\n",
    "print(MyList.mro())\n",
    "# [<class '__main__.MyList'>, <class 'list'>,\n",
    "#  <class '__main__.EvenLengthMixing'>, <class 'object'>]\n",
    "x = MyList([1, 2, 3])\n",
    "print(x.even_length()) # False\n",
    "x.append(4)\n",
    "print(x.even_length()) # True"
   ]
  },
  {
   "cell_type": "code",
   "execution_count": 55,
   "id": "4ff74663",
   "metadata": {},
   "outputs": [
    {
     "name": "stdout",
     "output_type": "stream",
     "text": [
      "True\n"
     ]
    }
   ],
   "source": [
    "class EvenLengthMixing:\n",
    "    def even_length(self):\n",
    "        return len(self) % 2 == 0\n",
    "    \n",
    "class MyList(list, EvenLengthMixing):\n",
    "    pass\n",
    "\n",
    "class MyDict(dict, EvenLengthMixing):\n",
    "    pass\n",
    "\n",
    "x = MyDict()\n",
    "x[\"key\"] = \"value\"\n",
    "x[\"another key\"] = \"another value\"\n",
    "print(x.even_length()) # True"
   ]
  },
  {
   "cell_type": "code",
   "execution_count": 56,
   "id": "31d558bd",
   "metadata": {},
   "outputs": [
    {
     "name": "stdout",
     "output_type": "stream",
     "text": [
      "Last value is  17\n",
      "17\n",
      "[1, 2, 4]\n"
     ]
    }
   ],
   "source": [
    "class EvenLengthMixing:\n",
    "    def even_length(self):\n",
    "        return len(self) % 2 == 0\n",
    "    \n",
    "class MyList(list, EvenLengthMixing):\n",
    "    def pop(self):\n",
    "        x = super(MyList, self).pop()\n",
    "        print(\"Last value is \", x)\n",
    "        return x\n",
    "    \n",
    "ml = MyList([1, 2, 4, 17])\n",
    "z = ml.pop() # Last value is 17\n",
    "print(z) # 17\n",
    "print(ml) # [1, 2, 4]"
   ]
  },
  {
   "cell_type": "code",
   "execution_count": 64,
   "id": "20140040",
   "metadata": {},
   "outputs": [
    {
     "name": "stdout",
     "output_type": "stream",
     "text": [
      "C\n",
      "A\n",
      "C\n",
      "D\n",
      "[<class '__main__.E'>, <class '__main__.B'>, <class '__main__.C'>, <class '__main__.A'>, <class '__main__.D'>, <class 'object'>]\n"
     ]
    }
   ],
   "source": [
    "class A:\n",
    "   def foo(self):\n",
    "      print(\"A\")\n",
    "\n",
    "class B(A):\n",
    "   pass\n",
    "\n",
    "class C(A):\n",
    "   def foo(self):\n",
    "      print(\"C\")\n",
    "\n",
    "class D:\n",
    "   def foo(self):\n",
    "      print(\"D\")\n",
    "\n",
    "class E(B, C, D):\n",
    "   pass\n",
    "\n",
    "E().foo()\n",
    "B().foo()\n",
    "C().foo()\n",
    "D().foo()\n",
    "\n",
    "print(E.mro())"
   ]
  },
  {
   "cell_type": "code",
   "execution_count": 65,
   "id": "69d36ea0",
   "metadata": {},
   "outputs": [
    {
     "ename": "TypeError",
     "evalue": "Cannot create a consistent method resolution\norder (MRO) for bases object, C, D",
     "output_type": "error",
     "traceback": [
      "\u001b[0;31m---------------------------------------------------------------------------\u001b[0m",
      "\u001b[0;31mTypeError\u001b[0m                                 Traceback (most recent call last)",
      "\u001b[0;32m/var/folders/v0/fz9y77nd4nz1zy76_3wr_r800000gn/T/ipykernel_11601/4228106597.py\u001b[0m in \u001b[0;36m<module>\u001b[0;34m\u001b[0m\n\u001b[1;32m     11\u001b[0m     \u001b[0;32mpass\u001b[0m\u001b[0;34m\u001b[0m\u001b[0;34m\u001b[0m\u001b[0m\n\u001b[1;32m     12\u001b[0m \u001b[0;34m\u001b[0m\u001b[0m\n\u001b[0;32m---> 13\u001b[0;31m \u001b[0;32mclass\u001b[0m \u001b[0mE\u001b[0m\u001b[0;34m(\u001b[0m\u001b[0mB\u001b[0m\u001b[0;34m,\u001b[0m \u001b[0mC\u001b[0m\u001b[0;34m,\u001b[0m \u001b[0mD\u001b[0m\u001b[0;34m)\u001b[0m\u001b[0;34m:\u001b[0m\u001b[0;34m\u001b[0m\u001b[0;34m\u001b[0m\u001b[0m\n\u001b[0m\u001b[1;32m     14\u001b[0m     \u001b[0;32mpass\u001b[0m\u001b[0;34m\u001b[0m\u001b[0;34m\u001b[0m\u001b[0m\n\u001b[1;32m     15\u001b[0m \u001b[0;34m\u001b[0m\u001b[0m\n",
      "\u001b[0;31mTypeError\u001b[0m: Cannot create a consistent method resolution\norder (MRO) for bases object, C, D"
     ]
    }
   ],
   "source": [
    "class A:\n",
    "    pass\n",
    "\n",
    "class B(A):\n",
    "    pass\n",
    "\n",
    "class C:\n",
    "    pass\n",
    "\n",
    "class D(C):\n",
    "    pass\n",
    "\n",
    "class E(B, C, D):\n",
    "    pass\n",
    "\n",
    "print(E.mro())"
   ]
  },
  {
   "cell_type": "code",
   "execution_count": 91,
   "id": "99dd8ed3",
   "metadata": {},
   "outputs": [
    {
     "name": "stdout",
     "output_type": "stream",
     "text": [
      "2\n",
      "A : C B\n",
      "B : D E\n",
      "{'A': ['A'], 'C': ['C', 'A'], 'B': ['B', 'A'], 'D': ['D', 'B'], 'E': ['E', 'B']}\n",
      "1\n",
      "E A\n",
      "Yes\n"
     ]
    }
   ],
   "source": [
    "def depth_search(is_parent, is_child):\n",
    "    childs = children[is_parent]\n",
    "    \n",
    "    for child in childs:\n",
    "        if child == is_child:\n",
    "            return True\n",
    "    \n",
    "    for child in childs:\n",
    "        if child != is_parent:\n",
    "            return depth_search(child, is_child)\n",
    "    \n",
    "    \n",
    "\n",
    "\n",
    "n = int(input())\n",
    "\n",
    "children = {}\n",
    "\n",
    "for _ in range(n):\n",
    "    args = input().split()\n",
    "    child = args[0]\n",
    "    if child not in children.keys():\n",
    "        children[child] = [child]\n",
    "    \n",
    "    for i in range(2, len(args)):\n",
    "        parent = args[i]\n",
    "        if parent not in children.keys():\n",
    "            children[parent] = [parent]\n",
    "        children[parent].append(child)\n",
    "    \n",
    "    \n",
    "#print(children)\n",
    "q = int(input())\n",
    "\n",
    "for _ in range(q):\n",
    "    is_parent, is_child = input().split()\n",
    "    \n",
    "    is_true = depth_search(is_parent, is_child)\n",
    "\n",
    "    print(\"Yes\" if is_true else \"No\")\n",
    "    \n",
    "    \n",
    "    "
   ]
  },
  {
   "cell_type": "code",
   "execution_count": 83,
   "id": "b85162d5",
   "metadata": {},
   "outputs": [
    {
     "ename": "SyntaxError",
     "evalue": "invalid syntax (473768132.py, line 2)",
     "output_type": "error",
     "traceback": [
      "\u001b[0;36m  File \u001b[0;32m\"/var/folders/v0/fz9y77nd4nz1zy76_3wr_r800000gn/T/ipykernel_11601/473768132.py\"\u001b[0;36m, line \u001b[0;32m2\u001b[0m\n\u001b[0;31m    A : C B\u001b[0m\n\u001b[0m          ^\u001b[0m\n\u001b[0;31mSyntaxError\u001b[0m\u001b[0;31m:\u001b[0m invalid syntax\n"
     ]
    }
   ],
   "source": [
    "2\n",
    "A : C B\n",
    "B : D E\n",
    "1\n",
    "E A\n",
    "\n",
    "4\n",
    "A\n",
    "B : A\n",
    "C : A\n",
    "D : B C\n",
    "5\n",
    "A B\n",
    "B D\n",
    "A A\n",
    "C D\n",
    "D A\n",
    "\n",
    "lst_mro = [  # список введённых строк\n",
    "    'G : F',  # сначала отнаследуем от F, потом его объявим, корректный алгоритм все равно правильно обойдёт граф, независимо что было раньше: наследование или объявление\n",
    "    'A',\n",
    "    'B : A',\n",
    "    'C : A',\n",
    "    'D : B C',\n",
    "    'E : D',\n",
    "    'F : D',\n",
    "    # а теперь другая ветка наследования\n",
    "    'X',\n",
    "    'Y : X A',  # свяжем две ветки наследования для проверки, обошла ли рекурсия предков Z и предков Y в поисках A\n",
    "    'Z : X',\n",
    "    'V : Z Y',\n",
    "    'W : V',\n",
    "]\n",
    "\n",
    "lst_q = [  # список введённых запросов\n",
    "    'A G',      # Yes   # A предок G через B/C, D, F\n",
    "    'A Z',      # No    # Y потомок A, но не Y\n",
    "    'A W',      # Yes   # A предок W через Y, V\n",
    "    'X W',      # Yes   # X предок W через Y, V\n",
    "    'X QWE',    # No    # нет такого класса QWE\n",
    "    'A X',      # No    # классы есть, но они нет родства :)\n",
    "    'X X',      # Yes   # родитель он же потомок\n",
    "    '1 1',      # No    # несуществующий класс\n",
    "]"
   ]
  },
  {
   "cell_type": "code",
   "execution_count": 89,
   "id": "1e3b40be",
   "metadata": {},
   "outputs": [
    {
     "ename": "KeyError",
     "evalue": "2",
     "output_type": "error",
     "traceback": [
      "\u001b[0;31m---------------------------------------------------------------------------\u001b[0m",
      "\u001b[0;31mKeyError\u001b[0m                                  Traceback (most recent call last)",
      "\u001b[0;32m/var/folders/v0/fz9y77nd4nz1zy76_3wr_r800000gn/T/ipykernel_11601/1127090777.py\u001b[0m in \u001b[0;36m<module>\u001b[0;34m\u001b[0m\n\u001b[1;32m      2\u001b[0m \u001b[0mm\u001b[0m\u001b[0;34m[\u001b[0m\u001b[0;36m4\u001b[0m\u001b[0;34m]\u001b[0m \u001b[0;34m=\u001b[0m \u001b[0;36m1\u001b[0m\u001b[0;34m\u001b[0m\u001b[0;34m\u001b[0m\u001b[0m\n\u001b[1;32m      3\u001b[0m \u001b[0mm\u001b[0m\u001b[0;34m[\u001b[0m\u001b[0;36m3\u001b[0m\u001b[0;34m]\u001b[0m \u001b[0;34m=\u001b[0m \u001b[0;34m[\u001b[0m\u001b[0;36m2\u001b[0m\u001b[0;34m,\u001b[0m \u001b[0;36m3\u001b[0m\u001b[0;34m,\u001b[0m \u001b[0;36m4\u001b[0m\u001b[0;34m]\u001b[0m\u001b[0;34m\u001b[0m\u001b[0;34m\u001b[0m\u001b[0m\n\u001b[0;32m----> 4\u001b[0;31m \u001b[0mm\u001b[0m\u001b[0;34m[\u001b[0m\u001b[0;36m2\u001b[0m\u001b[0;34m]\u001b[0m \u001b[0;34m+=\u001b[0m \u001b[0;34m[\u001b[0m\u001b[0;36m87\u001b[0m\u001b[0;34m]\u001b[0m\u001b[0;34m\u001b[0m\u001b[0;34m\u001b[0m\u001b[0m\n\u001b[0m\u001b[1;32m      5\u001b[0m \u001b[0mprint\u001b[0m\u001b[0;34m(\u001b[0m\u001b[0mm\u001b[0m\u001b[0;34m)\u001b[0m\u001b[0;34m\u001b[0m\u001b[0;34m\u001b[0m\u001b[0m\n",
      "\u001b[0;31mKeyError\u001b[0m: 2"
     ]
    }
   ],
   "source": [
    "m = {}\n",
    "m[4] = 1\n",
    "m[3] = [2, 3, 4]\n",
    "m[2] += [87]\n",
    "print(m)\n",
    "\n",
    "def depth(parent, child):\n",
    " global mas\n",
    " mas+=all_classes[ child]\n",
    " for element_of_child in all_classes[ child ]:\n",
    "  depth(parent, element_of_child)"
   ]
  },
  {
   "cell_type": "code",
   "execution_count": 95,
   "id": "fc6c0f8d",
   "metadata": {},
   "outputs": [
    {
     "name": "stdout",
     "output_type": "stream",
     "text": [
      "4\n",
      "A\n",
      "B : A\n",
      "C : A\n",
      "D : B C\n",
      "5\n",
      "A B\n",
      "Yes\n",
      "B D\n",
      "Yes\n",
      "A A\n",
      "Yes\n",
      "C D\n",
      "Yes\n",
      "D A\n",
      "No\n"
     ]
    }
   ],
   "source": [
    "def find_all_children(parent):\n",
    "    global all_children\n",
    "    all_children += children[parent]\n",
    "    \n",
    "    for child in children[parent]:\n",
    "        if child != parent:\n",
    "            find_all_children(child)\n",
    "    \n",
    "    \n",
    "    \n",
    "\n",
    "\n",
    "n = int(input())\n",
    "\n",
    "children = {}\n",
    "\n",
    "for _ in range(n):\n",
    "    args = input().split()\n",
    "    child = args[0]\n",
    "    if child not in children.keys():\n",
    "        children[child] = [child]\n",
    "    \n",
    "    for i in range(2, len(args)):\n",
    "        parent = args[i]\n",
    "        if parent not in children.keys():\n",
    "            children[parent] = [parent]\n",
    "        children[parent].append(child)\n",
    "    \n",
    "    \n",
    "# print(children)\n",
    "q = int(input())\n",
    "\n",
    "for _ in range(q):\n",
    "    is_parent, is_child = input().split()\n",
    "    \n",
    "    all_children = []\n",
    "    find_all_children(is_parent)\n",
    "    \n",
    "    if is_child in all_children:\n",
    "        print(\"Yes\")\n",
    "    else:\n",
    "        print(\"No\")\n",
    "\n",
    "    \n",
    "    \n",
    "    \n",
    "    "
   ]
  },
  {
   "cell_type": "code",
   "execution_count": null,
   "id": "a0a9ab09",
   "metadata": {},
   "outputs": [],
   "source": [
    "2\n",
    "A : C B\n",
    "B : D E\n",
    "1\n",
    "E A\n",
    "\n",
    "4\n",
    "A\n",
    "B : A\n",
    "C : A\n",
    "D : B C\n",
    "5\n",
    "A B\n",
    "B D\n",
    "A A\n",
    "C D\n",
    "D A"
   ]
  }
 ],
 "metadata": {
  "kernelspec": {
   "display_name": "Python 3 (ipykernel)",
   "language": "python",
   "name": "python3"
  },
  "language_info": {
   "codemirror_mode": {
    "name": "ipython",
    "version": 3
   },
   "file_extension": ".py",
   "mimetype": "text/x-python",
   "name": "python",
   "nbconvert_exporter": "python",
   "pygments_lexer": "ipython3",
   "version": "3.7.6"
  }
 },
 "nbformat": 4,
 "nbformat_minor": 5
}
