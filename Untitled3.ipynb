{
 "cells": [
  {
   "cell_type": "code",
   "execution_count": 3,
   "id": "030c276c",
   "metadata": {},
   "outputs": [
    {
     "name": "stdout",
     "output_type": "stream",
     "text": [
      "4\n",
      "A\n",
      "B : A\n",
      "C : A\n",
      "D : B C\n",
      "1\n",
      "A D\n",
      "Yes\n"
     ]
    }
   ],
   "source": [
    "n = int(input())\n",
    "\n",
    "parents = {}\n",
    "for _ in range(n):\n",
    "    a = input().split()\n",
    "    parents[a[0]] = [] if len(a) == 1 else a[2:]\n",
    "\n",
    "def is_parent(child, parent):\n",
    "    if child == parent:\n",
    "        return True\n",
    "\n",
    "    for p in parents[child]:\n",
    "        if is_parent(p, parent):\n",
    "            return True\n",
    "\n",
    "    return False\n",
    "\n",
    "q = int(input())\n",
    "for _ in range(q):\n",
    "    a, b = input().split()\n",
    "    print(\"Yes\" if is_parent(b, a) else \"No\")"
   ]
  },
  {
   "cell_type": "code",
   "execution_count": 42,
   "id": "f95c71f4",
   "metadata": {},
   "outputs": [
    {
     "name": "stdout",
     "output_type": "stream",
     "text": [
      "4\n",
      "A \n",
      "B : A\n",
      "C : A\n",
      "D : B C\n",
      "{'A': [], 'B': ['A'], 'C': ['A'], 'D': ['B', 'C']}\n",
      "3\n",
      "A A\n",
      "Yes\n",
      "B B\n",
      "Yes\n",
      "D D\n",
      "Yes\n"
     ]
    }
   ],
   "source": [
    "n = int(input())\n",
    "\n",
    "parents = {}\n",
    "for _ in range(n):\n",
    "    a = input().split()\n",
    "    parents[a[0]] = [] if len(a) == 1 else a[2:]\n",
    "    \n",
    "print(parents)\n",
    "\n",
    "def is_parent(child, parent):\n",
    "    if child == parent:\n",
    "        return True\n",
    "\n",
    "    for p in parents[child]:\n",
    "        if is_parent(p, parent):\n",
    "            return True\n",
    "\n",
    "    return False\n",
    "\n",
    "q = int(input())\n",
    "for _ in range(q):\n",
    "    a, b = input().split()\n",
    "    print(\"Yes\" if is_parent(b, a) else \"No\")"
   ]
  },
  {
   "cell_type": "code",
   "execution_count": 4,
   "id": "967dac4a",
   "metadata": {},
   "outputs": [
    {
     "ename": "SyntaxError",
     "evalue": "invalid syntax (2349142923.py, line 5)",
     "output_type": "error",
     "traceback": [
      "\u001b[0;36m  File \u001b[0;32m\"/var/folders/v0/fz9y77nd4nz1zy76_3wr_r800000gn/T/ipykernel_27500/2349142923.py\"\u001b[0;36m, line \u001b[0;32m5\u001b[0m\n\u001b[0;31m    D : B C\u001b[0m\n\u001b[0m          ^\u001b[0m\n\u001b[0;31mSyntaxError\u001b[0m\u001b[0;31m:\u001b[0m invalid syntax\n"
     ]
    }
   ],
   "source": [
    "4\n",
    "A\n",
    "B : A\n",
    "C : A\n",
    "D : B C\n",
    "4\n",
    "A B\n",
    "B D\n",
    "C D\n",
    "D A"
   ]
  },
  {
   "cell_type": "code",
   "execution_count": 15,
   "id": "759cb483",
   "metadata": {
    "scrolled": true
   },
   "outputs": [
    {
     "name": "stdout",
     "output_type": "stream",
     "text": [
      "[1, 2, 3, 4, 5]\n",
      "[1, 2, 3, 9]\n",
      "[1, 2, 6]\n",
      "[1, 12]\n",
      "[12]\n"
     ]
    }
   ],
   "source": [
    "class ExtendedStack(list):\n",
    "    def two_elem(self):\n",
    "        return [self.pop(), self.pop()]\n",
    "    \n",
    "    def sum(self):\n",
    "        a, b = self.two_elem()\n",
    "        self.append(a + b)\n",
    "        \n",
    "    def sub(self):\n",
    "        a, b = self.two_elem()\n",
    "        self.append(a - b)\n",
    "        \n",
    "    def mul(self):\n",
    "        a, b = self.two_elem()\n",
    "        self.append(a * b)\n",
    "        \n",
    "    def div(self):\n",
    "        a, b = self.two_elem()\n",
    "        self.append(a // b)\n",
    "        \n",
    "st = ExtendedStack([1, 2, 3, 4, 5])\n",
    "print(st)\n",
    "st.sum()\n",
    "print(st)\n",
    "st.sub()\n",
    "print(st)\n",
    "st.mul()\n",
    "print(st)\n",
    "st.div()\n",
    "print(st)"
   ]
  },
  {
   "cell_type": "code",
   "execution_count": 19,
   "id": "2280c0b4",
   "metadata": {},
   "outputs": [
    {
     "name": "stdout",
     "output_type": "stream",
     "text": [
      "[1, 2, 3]\n",
      "Sun Dec  8 10:03:48 2024: 4\n"
     ]
    }
   ],
   "source": [
    "import time\n",
    "\n",
    "class Loggable:\n",
    "    def log(self, msg):\n",
    "        print(str(time.ctime()) + \": \" + str(msg))\n",
    "        \n",
    "class LoggableList(list, Loggable):\n",
    "    def append(self, val):\n",
    "        super(LoggableList, self).append(val)\n",
    "        self.log(val)\n",
    "        \n",
    "l = LoggableList([1, 2, 3])\n",
    "print(l)\n",
    "l.append(4)"
   ]
  },
  {
   "cell_type": "code",
   "execution_count": 25,
   "id": "4d54d1e0",
   "metadata": {},
   "outputs": [
    {
     "name": "stdout",
     "output_type": "stream",
     "text": [
      "AssertionError\n"
     ]
    }
   ],
   "source": [
    "def foo():\n",
    "    assert 0 == 1\n",
    "\n",
    "try:\n",
    "    foo()\n",
    "except ZeroDivisionError:\n",
    "    print(\"ZeroDivisionError\")\n",
    "except ArithmeticError:\n",
    "    print(\"ArithmeticError\")\n",
    "except AssertionError:\n",
    "    print(\"AssertionError\")"
   ]
  },
  {
   "cell_type": "code",
   "execution_count": 47,
   "id": "18a8e946",
   "metadata": {},
   "outputs": [
    {
     "name": "stdout",
     "output_type": "stream",
     "text": [
      "4\n",
      "winter\n",
      "is\n",
      "coming\n",
      "OMG : winter is coming\n",
      "{'winter': [], 'is': [], 'coming': [], 'OMG': ['winter', 'is', 'coming']}\n",
      "4\n",
      "winter\n",
      "is\n",
      "coming\n",
      "OMG\n",
      "Extensive :  OMG\n"
     ]
    }
   ],
   "source": [
    "n = int(input())\n",
    "parents = {}\n",
    "\n",
    "for _ in range(n):\n",
    "    args = input().split()\n",
    "    parents[args[0]] = [] if len(args) == 1 else args[2:]\n",
    "    \n",
    "# print(parents)\n",
    "\n",
    "def is_parent(child, parent):\n",
    "    if parent == child:\n",
    "        return True\n",
    "    \n",
    "    for p in parents[child]:\n",
    "        if is_parent(p, parent):\n",
    "            return True\n",
    "        \n",
    "    return False\n",
    "\n",
    "m = int(input())\n",
    "errors = []\n",
    "for _ in range(m):\n",
    "    error = input()\n",
    "    errors.append(error)\n",
    "    \n",
    "    for j in range(len(errors) - 2, -1, -1):\n",
    "        if is_parent(error, errors[j]):\n",
    "            print(errors.pop())\n",
    "            break"
   ]
  },
  {
   "cell_type": "code",
   "execution_count": 28,
   "id": "9c6c4226",
   "metadata": {
    "collapsed": true
   },
   "outputs": [
    {
     "data": {
      "text/plain": [
       "FileNotFoundError"
      ]
     },
     "execution_count": 28,
     "metadata": {},
     "output_type": "execute_result"
    }
   ],
   "source": [
    "4\n",
    "winter\n",
    "is\n",
    "coming\n",
    "OMG : winter is coming\n",
    "4\n",
    "winter\n",
    "is\n",
    "coming\n",
    "OMG\n",
    "\n",
    "4\n",
    "ArithmeticError\n",
    "ZeroDivisionError : ArithmeticError\n",
    "OSError\n",
    "FileNotFoundError : OSError\n",
    "4\n",
    "ZeroDivisionError\n",
    "OSError\n",
    "ArithmeticError\n",
    "FileNotFoundError"
   ]
  },
  {
   "cell_type": "code",
   "execution_count": 39,
   "id": "8a34b65a",
   "metadata": {},
   "outputs": [],
   "source": [
    "l = [1, 2, 3, 4, 5]\n",
    "t = [1]\n",
    "for i in range(len(t) - 2, -1, -1):\n",
    "    print(i)"
   ]
  },
  {
   "cell_type": "code",
   "execution_count": 50,
   "id": "02740719",
   "metadata": {},
   "outputs": [
    {
     "name": "stdout",
     "output_type": "stream",
     "text": [
      "Hello, Anton\n"
     ]
    },
    {
     "ename": "TypeError",
     "evalue": "anton is inappropriate name",
     "output_type": "error",
     "traceback": [
      "\u001b[0;31m---------------------------------------------------------------------------\u001b[0m",
      "\u001b[0;31mTypeError\u001b[0m                                 Traceback (most recent call last)",
      "\u001b[0;32m/var/folders/v0/fz9y77nd4nz1zy76_3wr_r800000gn/T/ipykernel_27500/750387783.py\u001b[0m in \u001b[0;36m<module>\u001b[0;34m\u001b[0m\n\u001b[1;32m      6\u001b[0m \u001b[0;34m\u001b[0m\u001b[0m\n\u001b[1;32m      7\u001b[0m \u001b[0mprint\u001b[0m\u001b[0;34m(\u001b[0m\u001b[0mgreet_name\u001b[0m\u001b[0;34m(\u001b[0m\u001b[0;34m\"Anton\"\u001b[0m\u001b[0;34m)\u001b[0m\u001b[0;34m)\u001b[0m\u001b[0;34m\u001b[0m\u001b[0;34m\u001b[0m\u001b[0m\n\u001b[0;32m----> 8\u001b[0;31m \u001b[0mprint\u001b[0m\u001b[0;34m(\u001b[0m\u001b[0mgreet_name\u001b[0m\u001b[0;34m(\u001b[0m\u001b[0;34m\"anton\"\u001b[0m\u001b[0;34m)\u001b[0m\u001b[0;34m)\u001b[0m\u001b[0;34m\u001b[0m\u001b[0;34m\u001b[0m\u001b[0m\n\u001b[0m",
      "\u001b[0;32m/var/folders/v0/fz9y77nd4nz1zy76_3wr_r800000gn/T/ipykernel_27500/750387783.py\u001b[0m in \u001b[0;36mgreet_name\u001b[0;34m(name)\u001b[0m\n\u001b[1;32m      3\u001b[0m         \u001b[0;32mreturn\u001b[0m \u001b[0;34m\"Hello, \"\u001b[0m \u001b[0;34m+\u001b[0m \u001b[0mname\u001b[0m\u001b[0;34m\u001b[0m\u001b[0;34m\u001b[0m\u001b[0m\n\u001b[1;32m      4\u001b[0m     \u001b[0;32melse\u001b[0m\u001b[0;34m:\u001b[0m\u001b[0;34m\u001b[0m\u001b[0;34m\u001b[0m\u001b[0m\n\u001b[0;32m----> 5\u001b[0;31m         \u001b[0;32mraise\u001b[0m \u001b[0mTypeError\u001b[0m\u001b[0;34m(\u001b[0m\u001b[0mname\u001b[0m \u001b[0;34m+\u001b[0m \u001b[0;34m\" is inappropriate name\"\u001b[0m\u001b[0;34m)\u001b[0m\u001b[0;34m\u001b[0m\u001b[0;34m\u001b[0m\u001b[0m\n\u001b[0m\u001b[1;32m      6\u001b[0m \u001b[0;34m\u001b[0m\u001b[0m\n\u001b[1;32m      7\u001b[0m \u001b[0mprint\u001b[0m\u001b[0;34m(\u001b[0m\u001b[0mgreet_name\u001b[0m\u001b[0;34m(\u001b[0m\u001b[0;34m\"Anton\"\u001b[0m\u001b[0;34m)\u001b[0m\u001b[0;34m)\u001b[0m\u001b[0;34m\u001b[0m\u001b[0;34m\u001b[0m\u001b[0m\n",
      "\u001b[0;31mTypeError\u001b[0m: anton is inappropriate name"
     ]
    }
   ],
   "source": [
    "def greet_name(name):\n",
    "    if name[0].isupper():\n",
    "        return \"Hello, \" + name\n",
    "    else:\n",
    "        raise ValueError(name + \" is inappropriate name\")\n",
    "        \n",
    "print(greet_name(\"Anton\"))\n",
    "print(greet_name(\"anton\"))"
   ]
  },
  {
   "cell_type": "code",
   "execution_count": 57,
   "id": "8d4fa675",
   "metadata": {},
   "outputs": [
    {
     "ename": "NonPositiveError",
     "evalue": "",
     "output_type": "error",
     "traceback": [
      "\u001b[0;31m---------------------------------------------------------------------------\u001b[0m",
      "\u001b[0;31mNonPositiveError\u001b[0m                          Traceback (most recent call last)",
      "\u001b[0;32m/var/folders/v0/fz9y77nd4nz1zy76_3wr_r800000gn/T/ipykernel_27500/4244773443.py\u001b[0m in \u001b[0;36m<module>\u001b[0;34m\u001b[0m\n\u001b[1;32m     13\u001b[0m \u001b[0mx\u001b[0m\u001b[0;34m.\u001b[0m\u001b[0mappend\u001b[0m\u001b[0;34m(\u001b[0m\u001b[0;36m4\u001b[0m\u001b[0;34m)\u001b[0m\u001b[0;34m\u001b[0m\u001b[0;34m\u001b[0m\u001b[0m\n\u001b[1;32m     14\u001b[0m \u001b[0mx\u001b[0m\u001b[0;34m.\u001b[0m\u001b[0mappend\u001b[0m\u001b[0;34m(\u001b[0m\u001b[0;36m5\u001b[0m\u001b[0;34m)\u001b[0m\u001b[0;34m\u001b[0m\u001b[0;34m\u001b[0m\u001b[0m\n\u001b[0;32m---> 15\u001b[0;31m \u001b[0mx\u001b[0m\u001b[0;34m.\u001b[0m\u001b[0mappend\u001b[0m\u001b[0;34m(\u001b[0m\u001b[0;34m-\u001b[0m\u001b[0;36m3\u001b[0m\u001b[0;34m)\u001b[0m\u001b[0;34m\u001b[0m\u001b[0;34m\u001b[0m\u001b[0m\n\u001b[0m",
      "\u001b[0;32m/var/folders/v0/fz9y77nd4nz1zy76_3wr_r800000gn/T/ipykernel_27500/4244773443.py\u001b[0m in \u001b[0;36mappend\u001b[0;34m(self, x)\u001b[0m\n\u001b[1;32m      5\u001b[0m             \u001b[0;31m# list().append(x)\u001b[0m\u001b[0;34m\u001b[0m\u001b[0;34m\u001b[0m\u001b[0;34m\u001b[0m\u001b[0m\n\u001b[1;32m      6\u001b[0m         \u001b[0;32melse\u001b[0m\u001b[0;34m:\u001b[0m\u001b[0;34m\u001b[0m\u001b[0;34m\u001b[0m\u001b[0m\n\u001b[0;32m----> 7\u001b[0;31m             \u001b[0;32mraise\u001b[0m \u001b[0mNonPositiveError\u001b[0m\u001b[0;34m(\u001b[0m\u001b[0;34m)\u001b[0m\u001b[0;34m\u001b[0m\u001b[0;34m\u001b[0m\u001b[0m\n\u001b[0m\u001b[1;32m      8\u001b[0m \u001b[0;34m\u001b[0m\u001b[0m\n\u001b[1;32m      9\u001b[0m \u001b[0;32mclass\u001b[0m \u001b[0mNonPositiveError\u001b[0m\u001b[0;34m(\u001b[0m\u001b[0mException\u001b[0m\u001b[0;34m)\u001b[0m\u001b[0;34m:\u001b[0m\u001b[0;34m\u001b[0m\u001b[0;34m\u001b[0m\u001b[0m\n",
      "\u001b[0;31mNonPositiveError\u001b[0m: "
     ]
    }
   ],
   "source": [
    "class PositiveList(list):\n",
    "    def append(self, x):\n",
    "        if x > 0:\n",
    "            super(PositiveList, self).append(x)\n",
    "            # list().append(x)\n",
    "        else:\n",
    "            raise NonPositiveError()\n",
    "\n",
    "class NonPositiveError(Exception):\n",
    "    pass\n",
    "\n",
    "x = PositiveList()\n",
    "x.append(4)\n",
    "x.append(5)\n",
    "x.append(-3)"
   ]
  },
  {
   "cell_type": "code",
   "execution_count": 77,
   "id": "6b8100aa",
   "metadata": {},
   "outputs": [
    {
     "name": "stdout",
     "output_type": "stream",
     "text": [
      "2016 4 20\n",
      "14\n",
      "2016 5 4\n"
     ]
    }
   ],
   "source": [
    "from datetime import date\n",
    "from datetime import timedelta\n",
    "\n",
    "y, m, d = [int(i) for i in input().split()]\n",
    "days = int(input())\n",
    "a = date(y, m, d)\n",
    "a += timedelta(days)\n",
    "print(a.year, a.month, a.day)\n",
    "\n",
    "\n"
   ]
  },
  {
   "cell_type": "code",
   "execution_count": 82,
   "id": "5115df06",
   "metadata": {},
   "outputs": [
    {
     "ename": "ImportError",
     "evalue": "cannot import name 'is_native_int' from 'Crypto.Util.py3compat' (/Library/Frameworks/Python.framework/Versions/3.7/lib/python3.7/site-packages/Crypto/Util/py3compat.py)",
     "output_type": "error",
     "traceback": [
      "\u001b[0;31m---------------------------------------------------------------------------\u001b[0m",
      "\u001b[0;31mImportError\u001b[0m                               Traceback (most recent call last)",
      "\u001b[0;32m/var/folders/v0/fz9y77nd4nz1zy76_3wr_r800000gn/T/ipykernel_27500/1764991777.py\u001b[0m in \u001b[0;36m<module>\u001b[0;34m\u001b[0m\n\u001b[1;32m      1\u001b[0m \u001b[0;31m# from simplecrypt import encrypt, decrypt\u001b[0m\u001b[0;34m\u001b[0m\u001b[0;34m\u001b[0m\u001b[0;34m\u001b[0m\u001b[0m\n\u001b[0;32m----> 2\u001b[0;31m \u001b[0;32mimport\u001b[0m \u001b[0msimplecrypt\u001b[0m\u001b[0;34m\u001b[0m\u001b[0;34m\u001b[0m\u001b[0m\n\u001b[0m\u001b[1;32m      3\u001b[0m \u001b[0;34m\u001b[0m\u001b[0m\n\u001b[1;32m      4\u001b[0m \u001b[0;32mwith\u001b[0m \u001b[0mopen\u001b[0m\u001b[0;34m(\u001b[0m\u001b[0;34m\"encrypted.bin\"\u001b[0m\u001b[0;34m,\u001b[0m \u001b[0;34m\"rb\"\u001b[0m\u001b[0;34m)\u001b[0m \u001b[0;32mas\u001b[0m \u001b[0minp\u001b[0m\u001b[0;34m:\u001b[0m\u001b[0;34m\u001b[0m\u001b[0;34m\u001b[0m\u001b[0m\n\u001b[1;32m      5\u001b[0m     \u001b[0mencrypted\u001b[0m \u001b[0;34m=\u001b[0m \u001b[0minp\u001b[0m\u001b[0;34m.\u001b[0m\u001b[0mread\u001b[0m\u001b[0;34m(\u001b[0m\u001b[0;34m)\u001b[0m\u001b[0;34m\u001b[0m\u001b[0;34m\u001b[0m\u001b[0m\n",
      "\u001b[0;32m/Library/Frameworks/Python.framework/Versions/3.7/lib/python3.7/site-packages/simplecrypt/__init__.py\u001b[0m in \u001b[0;36m<module>\u001b[0;34m\u001b[0m\n\u001b[1;32m      3\u001b[0m \u001b[0;32mfrom\u001b[0m \u001b[0mCrypto\u001b[0m\u001b[0;34m.\u001b[0m\u001b[0mHash\u001b[0m \u001b[0;32mimport\u001b[0m \u001b[0mSHA256\u001b[0m\u001b[0;34m,\u001b[0m \u001b[0mHMAC\u001b[0m\u001b[0;34m\u001b[0m\u001b[0;34m\u001b[0m\u001b[0m\n\u001b[1;32m      4\u001b[0m \u001b[0;32mfrom\u001b[0m \u001b[0mCrypto\u001b[0m\u001b[0;34m.\u001b[0m\u001b[0mProtocol\u001b[0m\u001b[0;34m.\u001b[0m\u001b[0mKDF\u001b[0m \u001b[0;32mimport\u001b[0m \u001b[0mPBKDF2\u001b[0m\u001b[0;34m\u001b[0m\u001b[0;34m\u001b[0m\u001b[0m\n\u001b[0;32m----> 5\u001b[0;31m \u001b[0;32mfrom\u001b[0m \u001b[0mCrypto\u001b[0m\u001b[0;34m.\u001b[0m\u001b[0mRandom\u001b[0m\u001b[0;34m.\u001b[0m\u001b[0mrandom\u001b[0m \u001b[0;32mimport\u001b[0m \u001b[0mgetrandbits\u001b[0m\u001b[0;34m\u001b[0m\u001b[0;34m\u001b[0m\u001b[0m\n\u001b[0m\u001b[1;32m      6\u001b[0m \u001b[0;32mfrom\u001b[0m \u001b[0mCrypto\u001b[0m\u001b[0;34m.\u001b[0m\u001b[0mUtil\u001b[0m \u001b[0;32mimport\u001b[0m \u001b[0mCounter\u001b[0m\u001b[0;34m\u001b[0m\u001b[0;34m\u001b[0m\u001b[0m\n\u001b[1;32m      7\u001b[0m \u001b[0;34m\u001b[0m\u001b[0m\n",
      "\u001b[0;32m/Library/Frameworks/Python.framework/Versions/3.7/lib/python3.7/site-packages/Crypto/Random/random.py\u001b[0m in \u001b[0;36m<module>\u001b[0;34m\u001b[0m\n\u001b[1;32m     27\u001b[0m \u001b[0;32mfrom\u001b[0m \u001b[0mCrypto\u001b[0m \u001b[0;32mimport\u001b[0m \u001b[0mRandom\u001b[0m\u001b[0;34m\u001b[0m\u001b[0;34m\u001b[0m\u001b[0m\n\u001b[1;32m     28\u001b[0m \u001b[0;34m\u001b[0m\u001b[0m\n\u001b[0;32m---> 29\u001b[0;31m \u001b[0;32mfrom\u001b[0m \u001b[0mCrypto\u001b[0m\u001b[0;34m.\u001b[0m\u001b[0mUtil\u001b[0m\u001b[0;34m.\u001b[0m\u001b[0mpy3compat\u001b[0m \u001b[0;32mimport\u001b[0m \u001b[0mis_native_int\u001b[0m\u001b[0;34m\u001b[0m\u001b[0;34m\u001b[0m\u001b[0m\n\u001b[0m\u001b[1;32m     30\u001b[0m \u001b[0;34m\u001b[0m\u001b[0m\n\u001b[1;32m     31\u001b[0m \u001b[0;32mclass\u001b[0m \u001b[0mStrongRandom\u001b[0m\u001b[0;34m(\u001b[0m\u001b[0mobject\u001b[0m\u001b[0;34m)\u001b[0m\u001b[0;34m:\u001b[0m\u001b[0;34m\u001b[0m\u001b[0;34m\u001b[0m\u001b[0m\n",
      "\u001b[0;31mImportError\u001b[0m: cannot import name 'is_native_int' from 'Crypto.Util.py3compat' (/Library/Frameworks/Python.framework/Versions/3.7/lib/python3.7/site-packages/Crypto/Util/py3compat.py)"
     ]
    }
   ],
   "source": [
    "# from simplecrypt import encrypt, decrypt\n",
    "import simplecrypt\n",
    "\n",
    "with open(\"encrypted.bin\", \"rb\") as inp:\n",
    "    encrypted = inp.read()"
   ]
  },
  {
   "cell_type": "code",
   "execution_count": 93,
   "id": "96a29248",
   "metadata": {},
   "outputs": [
    {
     "name": "stdout",
     "output_type": "stream",
     "text": [
      "0.7688749842907855\n",
      "0.452893445511123\n",
      "0.4792367478608983\n",
      "<__main__.RandomIterator object at 0x7f8067076f90>\n",
      "0.9674527693235546\n",
      "0.19929475700773425\n",
      "0.7741839999661976\n",
      "0.9442360768538968\n",
      "0.38692327945099614\n",
      "0.7290468142367196\n",
      "0.8606419111076291\n",
      "0.48798069746082884\n",
      "0.6625345784508626\n",
      "0.964625355425667\n"
     ]
    }
   ],
   "source": [
    "from random import random\n",
    "\n",
    "class RandomIterator:\n",
    "    def __iter__(self):\n",
    "        return self\n",
    "    \n",
    "    def __init__(self, k):\n",
    "        self.k = k\n",
    "        self.i = 0\n",
    "        \n",
    "    def __next__(self):\n",
    "        if self.i < self.k:\n",
    "            self.i += 1\n",
    "            return random()\n",
    "        else:\n",
    "            raise StopIteration\n",
    "    \n",
    "x = RandomIterator(3)\n",
    "print(next(x)) # next(x) ≈ x.__next__() x - - iterator\n",
    "print(next(x))\n",
    "print(next(x))\n",
    "# print(next(x))\n",
    "    \n",
    "print(iter(x))\n",
    "\n",
    "for x in RandomIterator(10):\n",
    "    print(x)"
   ]
  },
  {
   "cell_type": "code",
   "execution_count": 95,
   "id": "73411da9",
   "metadata": {},
   "outputs": [
    {
     "name": "stdout",
     "output_type": "stream",
     "text": [
      "(1, 2)\n",
      "(3, 4)\n"
     ]
    }
   ],
   "source": [
    "class DoubleElementIterator:\n",
    "    def __init__(self, lst):\n",
    "        self.lst = lst\n",
    "        self.i = 0\n",
    "        \n",
    "    def __next__(self):\n",
    "        if self.i < len(self.lst):\n",
    "            self.i += 2\n",
    "            return self.lst[self.i - 2], self.lst[self.i - 1]\n",
    "        else:\n",
    "            raise StopIteration\n",
    "            \n",
    "    \n",
    "class MyList(list):\n",
    "    def __iter__(self):\n",
    "        return DoubleElementIterator(self)\n",
    "    \n",
    "for pair in MyList([1, 2, 3 ,4]):\n",
    "    print(pair)"
   ]
  },
  {
   "cell_type": "code",
   "execution_count": 96,
   "id": "774e13d1",
   "metadata": {},
   "outputs": [
    {
     "name": "stdout",
     "output_type": "stream",
     "text": [
      "<class 'generator'>\n"
     ]
    }
   ],
   "source": [
    "class RandomIterator:\n",
    "    def __iter__(self):\n",
    "        return self\n",
    "    \n",
    "    def __init__(self, k):\n",
    "        self.k = k\n",
    "        self.i = 0\n",
    "        \n",
    "    def __next__(self):\n",
    "        if self.i < self.k:\n",
    "            self.i += 1\n",
    "            return random()\n",
    "        else:\n",
    "            raise StopIteration\n",
    "            \n",
    "\n",
    "def random_generator(k):\n",
    "    for i in range(k):\n",
    "        yield random()\n",
    "\n",
    "gen = random_generator(3)\n",
    "print(type(gen))"
   ]
  },
  {
   "cell_type": "code",
   "execution_count": 103,
   "id": "d1477af9",
   "metadata": {},
   "outputs": [
    {
     "name": "stdout",
     "output_type": "stream",
     "text": [
      "<generator object simple_gen at 0x7f8068c892d0>\n",
      "Checkpoint 1\n",
      "1\n",
      "Checkpoint 2\n"
     ]
    },
    {
     "ename": "StopIteration",
     "evalue": "2",
     "output_type": "error",
     "traceback": [
      "\u001b[0;31m---------------------------------------------------------------------------\u001b[0m",
      "\u001b[0;31mStopIteration\u001b[0m                             Traceback (most recent call last)",
      "\u001b[0;32m/var/folders/v0/fz9y77nd4nz1zy76_3wr_r800000gn/T/ipykernel_27500/3327681356.py\u001b[0m in \u001b[0;36m<module>\u001b[0;34m\u001b[0m\n\u001b[1;32m     10\u001b[0m \u001b[0mx\u001b[0m \u001b[0;34m=\u001b[0m \u001b[0mnext\u001b[0m\u001b[0;34m(\u001b[0m\u001b[0mgen\u001b[0m\u001b[0;34m)\u001b[0m\u001b[0;34m\u001b[0m\u001b[0;34m\u001b[0m\u001b[0m\n\u001b[1;32m     11\u001b[0m \u001b[0mprint\u001b[0m\u001b[0;34m(\u001b[0m\u001b[0mx\u001b[0m\u001b[0;34m)\u001b[0m\u001b[0;34m\u001b[0m\u001b[0;34m\u001b[0m\u001b[0m\n\u001b[0;32m---> 12\u001b[0;31m \u001b[0my\u001b[0m \u001b[0;34m=\u001b[0m \u001b[0mnext\u001b[0m\u001b[0;34m(\u001b[0m\u001b[0mgen\u001b[0m\u001b[0;34m)\u001b[0m\u001b[0;34m\u001b[0m\u001b[0;34m\u001b[0m\u001b[0m\n\u001b[0m\u001b[1;32m     13\u001b[0m \u001b[0mprint\u001b[0m\u001b[0;34m(\u001b[0m\u001b[0my\u001b[0m\u001b[0;34m)\u001b[0m\u001b[0;34m\u001b[0m\u001b[0;34m\u001b[0m\u001b[0m\n\u001b[1;32m     14\u001b[0m \u001b[0mz\u001b[0m \u001b[0;34m=\u001b[0m \u001b[0mnext\u001b[0m\u001b[0;34m(\u001b[0m\u001b[0mgen\u001b[0m\u001b[0;34m)\u001b[0m\u001b[0;34m\u001b[0m\u001b[0;34m\u001b[0m\u001b[0m\n",
      "\u001b[0;31mStopIteration\u001b[0m: 2"
     ]
    }
   ],
   "source": [
    "def simple_gen():\n",
    "    print(\"Checkpoint 1\")\n",
    "    yield 1\n",
    "    print(\"Checkpoint 2\")\n",
    "    return 2\n",
    "    print(\"Checkpoint 3\")\n",
    "    \n",
    "gen = simple_gen()\n",
    "print(gen)\n",
    "x = next(gen)\n",
    "print(x)\n",
    "y = next(gen)\n",
    "print(y)\n",
    "z = next(gen)\n"
   ]
  },
  {
   "cell_type": "code",
   "execution_count": 114,
   "id": "447fc1f6",
   "metadata": {},
   "outputs": [
    {
     "name": "stdout",
     "output_type": "stream",
     "text": [
      "[0, 2, 3, 4, 5, 6, 8, 9, 10, 12, 14, 15, 16, 18, 20, 21, 22, 24, 25, 26, 27, 28, 30]\n",
      "[0, 6, 10, 12, 15, 18, 20, 24, 30]\n",
      "[0, 30]\n"
     ]
    }
   ],
   "source": [
    "# class MyIterator:\n",
    "#     def __iter__(self):\n",
    "        \n",
    "        \n",
    "#     def __next__(self):\n",
    "\n",
    "class multifilter:\n",
    "    def judge_half(pos, neg):\n",
    "        # допускает элемент, если его допускает хотя бы половина функций (pos >= neg)\n",
    "        \n",
    "        return pos >= neg\n",
    "        \n",
    "    def judge_any(pos, neg):\n",
    "        # допускает элемент, если его допускате хотя бы одна функция (pos >= 1)\n",
    "        \n",
    "        return pos >= 1\n",
    "        \n",
    "    def judge_all(pos, neg):\n",
    "        # допускает элемент, если его допускают все функции (neg == 0)\n",
    "        \n",
    "        return neg == 0\n",
    "        \n",
    "    def __init__(self, iterable, *funcs, judge=judge_any):\n",
    "        # iterable - исходная последовательность\n",
    "        # funcs - допускающие фукнции\n",
    "        # judge - решающая функция\n",
    "        \n",
    "        self.iterable = iterable\n",
    "        self.funcs = funcs\n",
    "        self.judge = judge\n",
    "        \n",
    "    def __iter__(self):\n",
    "        # возвращает итератор по результирующей последовательности\n",
    "        \n",
    "        for x in self.iterable:            \n",
    "            pos = 0\n",
    "            neg = 0\n",
    "            for func in self.funcs:\n",
    "                if func(x):\n",
    "                    pos += 1\n",
    "                else:\n",
    "                    neg += 1\n",
    "            \n",
    "            if self.judge(pos, neg):\n",
    "                yield x\n",
    "        \n",
    "    \n",
    "def mul2(x):\n",
    "    return x % 2 == 0\n",
    "\n",
    "def mul3(x):\n",
    "    return x % 3 == 0\n",
    "\n",
    "def mul5(x):\n",
    "    return x % 5 == 0\n",
    "\n",
    "\n",
    "a = [i for i in range(31)] # [0, 1, 2, ..., 30]\n",
    "\n",
    "print(list(multifilter(a, mul2, mul3, mul5)))\n",
    "# [0, 2, 3, 4, 5, 6, 8, 9, 10, 12, 14, 15, 16, 18, 20, 21, 22, 24, 25, 26, 27, 28, 30]\n",
    "\n",
    "print(list(multifilter(a, mul2, mul3, mul5, judge=multifilter.judge_half)))\n",
    "# [0, 6, 10, 12, 15, 18, 20, 24, 30]\n",
    "\n",
    "print(list(multifilter(a, mul2, mul3, mul5, judge=multifilter.judge_all)))\n",
    "# [0, 30]"
   ]
  },
  {
   "cell_type": "code",
   "execution_count": null,
   "id": "fe1e2c6a",
   "metadata": {},
   "outputs": [],
   "source": []
  }
 ],
 "metadata": {
  "kernelspec": {
   "display_name": "Python 3 (ipykernel)",
   "language": "python",
   "name": "python3"
  },
  "language_info": {
   "codemirror_mode": {
    "name": "ipython",
    "version": 3
   },
   "file_extension": ".py",
   "mimetype": "text/x-python",
   "name": "python",
   "nbconvert_exporter": "python",
   "pygments_lexer": "ipython3",
   "version": "3.7.6"
  }
 },
 "nbformat": 4,
 "nbformat_minor": 5
}
