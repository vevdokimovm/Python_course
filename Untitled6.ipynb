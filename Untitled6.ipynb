{
 "cells": [
  {
   "cell_type": "code",
   "execution_count": 3,
   "id": "8174d453",
   "metadata": {},
   "outputs": [
    {
     "name": "stdout",
     "output_type": "stream",
     "text": [
      "http://localhost:8000/index.html\n",
      "bya-2.ru\n",
      "bya.ru\n",
      "mail-2.ru\n",
      "mail.ru\n",
      "neerc.ifmo-2.ru\n",
      "neerc.ifmo.ru\n",
      "sas-_0123d.ifmo.ru\n",
      "sasd.ifmo-2.ru\n",
      "steeeeeeepic.org\n",
      "stepic-2.org\n",
      "stepic.org\n",
      "test.com\n",
      "www.gtu.edu-2.ge\n",
      "www.gtu.edu.ge\n",
      "www.kya-2.ru\n",
      "www.kya.ru\n",
      "www.masdaya.ru\n",
      "www.mya-2.ru\n",
      "www.ya-2.ru\n",
      "www.ya.ru\n"
     ]
    }
   ],
   "source": [
    "import re\n",
    "import requests\n",
    "\n",
    "url = input()\n",
    "response = requests.get(url)\n",
    "html = response.text\n",
    "pattern = r'<a\\s+[^>]*?href=[\"\\'](.*?)[\"\\'][^>]*?>'\n",
    "links = re.findall(pattern, html)\n",
    "\n",
    "chars = [':', '/']\n",
    "ans = []\n",
    "for url in links:\n",
    "    domen = \"\"\n",
    "    pos = url.find('//')\n",
    "    pos = 0 if pos == -1 else pos + 2\n",
    "    while pos < len(url) and url[pos] not in chars:\n",
    "        domen += url[pos]\n",
    "        pos += 1\n",
    "        \n",
    "    if domen not in ans and domen[0] != '.':\n",
    "        ans.append(domen)\n",
    "        \n",
    "ans.sort()\n",
    "for line in ans:\n",
    "    print(line)\n",
    "        \n"
   ]
  },
  {
   "cell_type": "code",
   "execution_count": 4,
   "id": "af3fec4e",
   "metadata": {},
   "outputs": [
    {
     "ename": "SyntaxError",
     "evalue": "invalid syntax (2132679370.py, line 1)",
     "output_type": "error",
     "traceback": [
      "\u001b[0;36m  Cell \u001b[0;32mIn[4], line 1\u001b[0;36m\u001b[0m\n\u001b[0;31m    http://localhost:8000/index.html\u001b[0m\n\u001b[0m         ^\u001b[0m\n\u001b[0;31mSyntaxError\u001b[0m\u001b[0;31m:\u001b[0m invalid syntax\n"
     ]
    }
   ],
   "source": [
    "http://localhost:8000/index.html"
   ]
  },
  {
   "cell_type": "code",
   "execution_count": 43,
   "id": "b3407b01",
   "metadata": {},
   "outputs": [
    {
     "ename": "KeyboardInterrupt",
     "evalue": "",
     "output_type": "error",
     "traceback": [
      "\u001b[0;31m---------------------------------------------------------------------------\u001b[0m",
      "\u001b[0;31mKeyboardInterrupt\u001b[0m                         Traceback (most recent call last)",
      "Cell \u001b[0;32mIn[43], line 24\u001b[0m\n\u001b[1;32m     22\u001b[0m \u001b[38;5;28;01mwith\u001b[39;00m \u001b[38;5;28mopen\u001b[39m(\u001b[38;5;124m'\u001b[39m\u001b[38;5;124mCrimes.csv\u001b[39m\u001b[38;5;124m'\u001b[39m) \u001b[38;5;28;01mas\u001b[39;00m f:\n\u001b[1;32m     23\u001b[0m     file \u001b[38;5;241m=\u001b[39m csv\u001b[38;5;241m.\u001b[39mDictReader(f)\n\u001b[0;32m---> 24\u001b[0m     \u001b[38;5;28;01mfor\u001b[39;00m row \u001b[38;5;129;01min\u001b[39;00m file:\n\u001b[1;32m     25\u001b[0m         crime \u001b[38;5;241m=\u001b[39m row[\u001b[38;5;124m'\u001b[39m\u001b[38;5;124mPrimary Type\u001b[39m\u001b[38;5;124m'\u001b[39m]\n\u001b[1;32m     26\u001b[0m         date \u001b[38;5;241m=\u001b[39m get_date(row)\n",
      "File \u001b[0;32m/Library/Frameworks/Python.framework/Versions/3.10/lib/python3.10/csv.py:110\u001b[0m, in \u001b[0;36mDictReader.__next__\u001b[0;34m(self)\u001b[0m\n\u001b[1;32m    107\u001b[0m \u001b[38;5;28;01mdef\u001b[39;00m \u001b[38;5;21m__next__\u001b[39m(\u001b[38;5;28mself\u001b[39m):\n\u001b[1;32m    108\u001b[0m     \u001b[38;5;28;01mif\u001b[39;00m \u001b[38;5;28mself\u001b[39m\u001b[38;5;241m.\u001b[39mline_num \u001b[38;5;241m==\u001b[39m \u001b[38;5;241m0\u001b[39m:\n\u001b[1;32m    109\u001b[0m         \u001b[38;5;66;03m# Used only for its side effect.\u001b[39;00m\n\u001b[0;32m--> 110\u001b[0m         \u001b[38;5;28;43mself\u001b[39;49m\u001b[38;5;241;43m.\u001b[39;49m\u001b[43mfieldnames\u001b[49m\n\u001b[1;32m    111\u001b[0m     row \u001b[38;5;241m=\u001b[39m \u001b[38;5;28mnext\u001b[39m(\u001b[38;5;28mself\u001b[39m\u001b[38;5;241m.\u001b[39mreader)\n\u001b[1;32m    112\u001b[0m     \u001b[38;5;28mself\u001b[39m\u001b[38;5;241m.\u001b[39mline_num \u001b[38;5;241m=\u001b[39m \u001b[38;5;28mself\u001b[39m\u001b[38;5;241m.\u001b[39mreader\u001b[38;5;241m.\u001b[39mline_num\n",
      "File \u001b[0;32m/Library/Frameworks/Python.framework/Versions/3.10/lib/python3.10/csv.py:97\u001b[0m, in \u001b[0;36mDictReader.fieldnames\u001b[0;34m(self)\u001b[0m\n\u001b[1;32m     95\u001b[0m \u001b[38;5;28;01mif\u001b[39;00m \u001b[38;5;28mself\u001b[39m\u001b[38;5;241m.\u001b[39m_fieldnames \u001b[38;5;129;01mis\u001b[39;00m \u001b[38;5;28;01mNone\u001b[39;00m:\n\u001b[1;32m     96\u001b[0m     \u001b[38;5;28;01mtry\u001b[39;00m:\n\u001b[0;32m---> 97\u001b[0m         \u001b[38;5;28mself\u001b[39m\u001b[38;5;241m.\u001b[39m_fieldnames \u001b[38;5;241m=\u001b[39m \u001b[38;5;28;43mnext\u001b[39;49m\u001b[43m(\u001b[49m\u001b[38;5;28;43mself\u001b[39;49m\u001b[38;5;241;43m.\u001b[39;49m\u001b[43mreader\u001b[49m\u001b[43m)\u001b[49m\n\u001b[1;32m     98\u001b[0m     \u001b[38;5;28;01mexcept\u001b[39;00m \u001b[38;5;167;01mStopIteration\u001b[39;00m:\n\u001b[1;32m     99\u001b[0m         \u001b[38;5;28;01mpass\u001b[39;00m\n",
      "\u001b[0;31mKeyboardInterrupt\u001b[0m: "
     ]
    }
   ],
   "source": [
    "import csv\n",
    "import collections\n",
    "\n",
    "def max_crime(crimes):\n",
    "    max = -1\n",
    "    kind = ''\n",
    "    for key in crimes:\n",
    "        crime = key\n",
    "        count = crimes[key]\n",
    "        if count > max:\n",
    "            max = count\n",
    "            kind = crime\n",
    "            \n",
    "    return kind\n",
    "\n",
    "def get_date(crime): # crime – dictionary\n",
    "    date = crime['Date'][6:10]\n",
    "    return date\n",
    "    \n",
    "\n",
    "crimes = {}\n",
    "with open('Crimes.csv') as f:\n",
    "    file = csv.DictReader(f)\n",
    "    for row in file:\n",
    "        crime = row['Primary Type']\n",
    "        date = get_date(row)\n",
    "        \n",
    "        if date == \"2015\":\n",
    "            if crime in crimes:\n",
    "                crimes[crime] += 1\n",
    "            else: # new type of crime\n",
    "                crimes[crime] = 1\n",
    "    \n",
    "    \n",
    "    answer = max_crime(crimes)\n",
    "    print(answer)\n",
    "    \n",
    "    \n",
    "#     for i, row in enumerate(file):\n",
    "#         print(row)\n",
    "#         if i >= 10:\n",
    "#             break"
   ]
  },
  {
   "cell_type": "code",
   "execution_count": 21,
   "id": "85c77258",
   "metadata": {},
   "outputs": [
    {
     "name": "stdout",
     "output_type": "stream",
     "text": [
      "dict() -> new empty dictionary\n",
      "dict(mapping) -> new dictionary initialized from a mapping object's\n",
      "    (key, value) pairs\n",
      "dict(iterable) -> new dictionary initialized as if via:\n",
      "    d = {}\n",
      "    for k, v in iterable:\n",
      "        d[k] = v\n",
      "dict(**kwargs) -> new dictionary initialized with the name=value pairs\n",
      "    in the keyword argument list.  For example:  dict(one=1, two=2)\n"
     ]
    }
   ],
   "source": [
    "print(dict.__doc__)"
   ]
  },
  {
   "cell_type": "code",
   "execution_count": 1,
   "id": "5e3d6699",
   "metadata": {},
   "outputs": [
    {
     "name": "stdout",
     "output_type": "stream",
     "text": [
      "[{\"name\": \"B\", \"parents\": [\"A\", \"C\"]}, {\"name\": \"C\", \"parents\": [\"A\"]}, {\"name\": \"A\", \"parents\": []}, {\"name\": \"D\", \"parents\":[\"C\", \"F\"]}, {\"name\": \"E\", \"parents\":[\"D\"]}, {\"name\": \"F\", \"parents\":[]}]\n",
      "A : 3\n",
      "B : 1\n",
      "C : 3\n",
      "D : 2\n",
      "E : 1\n",
      "F : 2\n"
     ]
    }
   ],
   "source": [
    "import json\n",
    "\n",
    "json_data = input()\n",
    "data = json.loads(json_data)\n",
    "\n",
    "\n",
    "\n",
    "ans = dict(sorted(ans.items()))\n",
    "for key, value in ans.items():\n",
    "    print(key, \":\", value)"
   ]
  },
  {
   "cell_type": "code",
   "execution_count": null,
   "id": "4a333bde",
   "metadata": {},
   "outputs": [],
   "source": []
  },
  {
   "cell_type": "code",
   "execution_count": 14,
   "id": "2274b194",
   "metadata": {},
   "outputs": [
    {
     "name": "stdout",
     "output_type": "stream",
     "text": [
      "City? Moscow\n",
      "200\n",
      "application/json; charset=utf-8\n",
      "{'coord': {'lon': 37.6156, 'lat': 55.7522}, 'weather': [{'id': 802, 'main': 'Clouds', 'description': 'scattered clouds', 'icon': '03n'}], 'base': 'stations', 'main': {'temp': -0.92, 'feels_like': -4.38, 'temp_min': -1.76, 'temp_max': -0.92, 'pressure': 1017, 'humidity': 74, 'sea_level': 1017, 'grnd_level': 997}, 'visibility': 10000, 'wind': {'speed': 2.76, 'deg': 208, 'gust': 6.73}, 'clouds': {'all': 44}, 'dt': 1736439634, 'sys': {'type': 2, 'id': 2094500, 'country': 'RU', 'sunrise': 1736402098, 'sunset': 1736428673}, 'timezone': 10800, 'id': 524901, 'name': 'Moscow', 'cod': 200}\n",
      "Current temperature in Moscow is -0.92\n"
     ]
    }
   ],
   "source": [
    "import requests \n",
    "\n",
    "api_url = \"http://api.openweathermap.org/data/2.5/weather\"\n",
    "\n",
    "city = input('City? ')\n",
    "\n",
    "# http://api.openweathermap.org/data/2.5/weather?q=Moscow&appid=\n",
    "# 7e0a673e0be7647a6760e1ef1d78e9e6&units=metric\n",
    "# Вот что это значит и как это соединяется с юрл выше, если city – Moscow\n",
    "params = {\n",
    "    'q': city, # 'Saint-Petersburg' он не принял хех - 404\n",
    "    'appid': \"7e0a673e0be7647a6760e1ef1d78e9e6\",\n",
    "    'units': 'metric'\n",
    "}\n",
    "\n",
    "res = requests.get(api_url, params=params)\n",
    "# print(res.status_code)\n",
    "# print(res.headers['Content-Type'])\n",
    "# print(res.json())\n",
    "\n",
    "data = res.json()\n",
    "template = 'Current temperature in {} is {}'\n",
    "print(template.format(city, data['main']['temp']))"
   ]
  },
  {
   "cell_type": "code",
   "execution_count": 49,
   "id": "349b055b",
   "metadata": {},
   "outputs": [
    {
     "name": "stdout",
     "output_type": "stream",
     "text": [
      "http://numbersapi.com/960\n",
      "200\n",
      "{'text': 'Boring', 'number': 960, 'found': False, 'type': 'trivia'}\n",
      "text =  Boring\n",
      "Boring\n",
      "http://numbersapi.com/992\n",
      "200\n",
      "{'text': 'Boring', 'number': 992, 'found': False, 'type': 'trivia'}\n",
      "text =  Boring\n",
      "Boring\n",
      "http://numbersapi.com/995\n",
      "200\n",
      "{'text': 'Boring', 'number': 995, 'found': False, 'type': 'trivia'}\n",
      "text =  Boring\n",
      "Boring\n",
      "http://numbersapi.com/933\n",
      "200\n",
      "{'text': 'Boring', 'number': 933, 'found': False, 'type': 'trivia'}\n",
      "text =  Boring\n",
      "Boring\n",
      "http://numbersapi.com/968\n",
      "200\n",
      "{'text': 'Boring', 'number': 968, 'found': False, 'type': 'trivia'}\n",
      "text =  Boring\n",
      "Boring\n",
      "http://numbersapi.com/938\n",
      "200\n",
      "{'text': 'Boring', 'number': 938, 'found': False, 'type': 'trivia'}\n",
      "text =  Boring\n",
      "Boring\n",
      "http://numbersapi.com/907\n",
      "200\n",
      "{'text': 'Boring', 'number': 907, 'found': False, 'type': 'trivia'}\n",
      "text =  Boring\n",
      "Boring\n",
      "http://numbersapi.com/941\n",
      "200\n",
      "{'text': 'Boring', 'number': 941, 'found': False, 'type': 'trivia'}\n",
      "text =  Boring\n",
      "Boring\n",
      "http://numbersapi.com/912\n",
      "200\n",
      "{'text': 'Boring', 'number': 912, 'found': False, 'type': 'trivia'}\n",
      "text =  Boring\n",
      "Boring\n",
      "http://numbersapi.com/945\n",
      "200\n",
      "{'text': 'Boring', 'number': 945, 'found': False, 'type': 'trivia'}\n",
      "text =  Boring\n",
      "Boring\n",
      "http://numbersapi.com/950\n",
      "200\n",
      "{'text': 'Boring', 'number': 950, 'found': False, 'type': 'trivia'}\n",
      "text =  Boring\n",
      "Boring\n",
      "http://numbersapi.com/919\n",
      "200\n",
      "{'text': 'Boring', 'number': 919, 'found': False, 'type': 'trivia'}\n",
      "text =  Boring\n",
      "Boring\n",
      "http://numbersapi.com/984\n",
      "200\n",
      "{'text': 'Boring', 'number': 984, 'found': False, 'type': 'trivia'}\n",
      "text =  Boring\n",
      "Boring\n",
      "http://numbersapi.com/953\n",
      "200\n",
      "{'text': 'Boring', 'number': 953, 'found': False, 'type': 'trivia'}\n",
      "text =  Boring\n",
      "Boring\n",
      "http://numbersapi.com/925\n",
      "200\n",
      "{'text': 'Boring', 'number': 925, 'found': False, 'type': 'trivia'}\n",
      "text =  Boring\n",
      "Boring\n"
     ]
    }
   ],
   "source": [
    "import requests\n",
    "\n",
    "api_url = \"http://numbersapi.com\"\n",
    "\n",
    "params = {\n",
    "    'default': 'Boring',\n",
    "    'json': 'true'\n",
    "}\n",
    "\n",
    "with open(\"dataset.txt\", \"r\") as infile:\n",
    "    numbers = infile.read().splitlines()\n",
    "    \n",
    "# print(numbers)\n",
    "\n",
    "for number in numbers:\n",
    "#     url = f'{api_url}/{number}/math'\n",
    "#     res = requests.get(url, params=params)\n",
    "#     data = res.json()\n",
    "# #     print(data)\n",
    "#     if data['text'] == 'Boring':\n",
    "#         print('Boring')\n",
    "#     else:\n",
    "#         print('Interesting')\n",
    "    \n",
    "    number = number.strip()\n",
    "    url = api_url + '/' + number\n",
    "    res = requests.get(url, params=params)\n",
    "    print(url)\n",
    "    print(res.status_code)\n",
    "    data = res.json()\n",
    "    print(data)\n",
    "    print(\"text = \", data['text'])\n",
    "    if data['text'] == 'Boring':\n",
    "        print('Boring')\n",
    "    else:\n",
    "        print('Interesting')\n",
    "        \n",
    "    \n"
   ]
  },
  {
   "cell_type": "code",
   "execution_count": 26,
   "id": "b21a32b3",
   "metadata": {},
   "outputs": [
    {
     "name": "stdout",
     "output_type": "stream",
     "text": [
      "http://numbersapi.com/960/number/math\n"
     ]
    }
   ],
   "source": [
    "api_url = \"http://numbersapi.com\"\n",
    "number = \"960\"\n",
    "kind = \"number\"\n",
    "url = api_url + '/' + number + '/' + kind + '/math'\n",
    "\n",
    "print(url)"
   ]
  },
  {
   "cell_type": "code",
   "execution_count": null,
   "id": "774e5cab",
   "metadata": {},
   "outputs": [],
   "source": []
  }
 ],
 "metadata": {
  "kernelspec": {
   "display_name": "Python 3.10",
   "language": "python",
   "name": "python310"
  },
  "language_info": {
   "codemirror_mode": {
    "name": "ipython",
    "version": 3
   },
   "file_extension": ".py",
   "mimetype": "text/x-python",
   "name": "python",
   "nbconvert_exporter": "python",
   "pygments_lexer": "ipython3",
   "version": "3.10.0"
  }
 },
 "nbformat": 4,
 "nbformat_minor": 5
}
